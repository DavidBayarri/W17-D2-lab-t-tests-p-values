{
 "cells": [
  {
   "cell_type": "markdown",
   "id": "1d9b214d",
   "metadata": {},
   "source": [
    "### Instructions"
   ]
  },
  {
   "cell_type": "markdown",
   "id": "0c6832bd",
   "metadata": {},
   "source": [
    "In a packing plant, a machine packs cartons with jars. It is supposed that a new machine will pack faster on the average than the machine currently used. To test that hypothesis, the times it takes each machine to pack ten cartons are recorded. The results, in seconds, are shown in the tables in the file files_for_lab/machine.txt. Assume that there is sufficient evidence to conduct the t test, does the data provide sufficient evidence to show if one machine is better than the other"
   ]
  },
  {
   "cell_type": "code",
   "execution_count": 1,
   "id": "a414316a",
   "metadata": {},
   "outputs": [],
   "source": [
    "import pandas as pd\n",
    "import numpy as np\n",
    "import math as m\n",
    "import scipy.stats as stats"
   ]
  },
  {
   "cell_type": "code",
   "execution_count": 3,
   "id": "299e5ff1",
   "metadata": {},
   "outputs": [],
   "source": [
    "data = pd.read_csv(\"files_for_lab/machine.txt\", encoding='utf-16', sep='\\t')"
   ]
  },
  {
   "cell_type": "code",
   "execution_count": 4,
   "id": "4cd6f733",
   "metadata": {},
   "outputs": [
    {
     "data": {
      "text/html": [
       "<div>\n",
       "<style scoped>\n",
       "    .dataframe tbody tr th:only-of-type {\n",
       "        vertical-align: middle;\n",
       "    }\n",
       "\n",
       "    .dataframe tbody tr th {\n",
       "        vertical-align: top;\n",
       "    }\n",
       "\n",
       "    .dataframe thead th {\n",
       "        text-align: right;\n",
       "    }\n",
       "</style>\n",
       "<table border=\"1\" class=\"dataframe\">\n",
       "  <thead>\n",
       "    <tr style=\"text-align: right;\">\n",
       "      <th></th>\n",
       "      <th>New machine</th>\n",
       "      <th>Old machine</th>\n",
       "    </tr>\n",
       "  </thead>\n",
       "  <tbody>\n",
       "    <tr>\n",
       "      <th>0</th>\n",
       "      <td>42.1</td>\n",
       "      <td>42.7</td>\n",
       "    </tr>\n",
       "    <tr>\n",
       "      <th>1</th>\n",
       "      <td>41.0</td>\n",
       "      <td>43.6</td>\n",
       "    </tr>\n",
       "    <tr>\n",
       "      <th>2</th>\n",
       "      <td>41.3</td>\n",
       "      <td>43.8</td>\n",
       "    </tr>\n",
       "    <tr>\n",
       "      <th>3</th>\n",
       "      <td>41.8</td>\n",
       "      <td>43.3</td>\n",
       "    </tr>\n",
       "    <tr>\n",
       "      <th>4</th>\n",
       "      <td>42.4</td>\n",
       "      <td>42.5</td>\n",
       "    </tr>\n",
       "    <tr>\n",
       "      <th>5</th>\n",
       "      <td>42.8</td>\n",
       "      <td>43.5</td>\n",
       "    </tr>\n",
       "    <tr>\n",
       "      <th>6</th>\n",
       "      <td>43.2</td>\n",
       "      <td>43.1</td>\n",
       "    </tr>\n",
       "    <tr>\n",
       "      <th>7</th>\n",
       "      <td>42.3</td>\n",
       "      <td>41.7</td>\n",
       "    </tr>\n",
       "    <tr>\n",
       "      <th>8</th>\n",
       "      <td>41.8</td>\n",
       "      <td>44.0</td>\n",
       "    </tr>\n",
       "    <tr>\n",
       "      <th>9</th>\n",
       "      <td>42.7</td>\n",
       "      <td>44.1</td>\n",
       "    </tr>\n",
       "  </tbody>\n",
       "</table>\n",
       "</div>"
      ],
      "text/plain": [
       "   New machine      Old machine\n",
       "0         42.1             42.7\n",
       "1         41.0             43.6\n",
       "2         41.3             43.8\n",
       "3         41.8             43.3\n",
       "4         42.4             42.5\n",
       "5         42.8             43.5\n",
       "6         43.2             43.1\n",
       "7         42.3             41.7\n",
       "8         41.8             44.0\n",
       "9         42.7             44.1"
      ]
     },
     "execution_count": 4,
     "metadata": {},
     "output_type": "execute_result"
    }
   ],
   "source": [
    "data"
   ]
  },
  {
   "cell_type": "markdown",
   "id": "a8a6e59a",
   "metadata": {},
   "source": [
    "##### Set up the hypothesis"
   ]
  },
  {
   "cell_type": "markdown",
   "id": "fcddea6f",
   "metadata": {},
   "source": [
    "mu = mean velocity\n",
    "H0: The machines run same velocity. muNew = muOld\n",
    "Ha: New machine is faster that old. muOld > muNew\n"
   ]
  },
  {
   "cell_type": "markdown",
   "id": "138ecc02",
   "metadata": {},
   "source": [
    "##### Assumptions"
   ]
  },
  {
   "cell_type": "markdown",
   "id": "6fa52583",
   "metadata": {},
   "source": [
    "Following the description we assume the following:\n",
    "* Both set of data is independent\n",
    "* Data is normally distributed\n",
    "* The two samples have similar variance (normal distribution)"
   ]
  },
  {
   "cell_type": "markdown",
   "id": "62b20c02",
   "metadata": {},
   "source": [
    "##### Choose the appropiate test and run"
   ]
  },
  {
   "cell_type": "markdown",
   "id": "dd860882",
   "metadata": {},
   "source": [
    "Order to choose the test\n",
    "* Independent attributes\n",
    "* Normally distributed\n",
    "We should choose a t-test\n",
    "* as we want to see if one set is greater that the other, alternative = \"greater\""
   ]
  },
  {
   "cell_type": "code",
   "execution_count": 7,
   "id": "7aa82545",
   "metadata": {},
   "outputs": [
    {
     "data": {
      "text/plain": [
       "Index(['New machine', '    Old machine'], dtype='object')"
      ]
     },
     "execution_count": 7,
     "metadata": {},
     "output_type": "execute_result"
    }
   ],
   "source": [
    "data.columns"
   ]
  },
  {
   "cell_type": "code",
   "execution_count": 8,
   "id": "585b2989",
   "metadata": {},
   "outputs": [
    {
     "data": {
      "text/plain": [
       "(array([42.7, 43.6, 43.8, 43.3, 42.5, 43.5, 43.1, 41.7, 44. , 44.1]),\n",
       " array([42.1, 41. , 41.3, 41.8, 42.4, 42.8, 43.2, 42.3, 41.8, 42.7]))"
      ]
     },
     "execution_count": 8,
     "metadata": {},
     "output_type": "execute_result"
    }
   ],
   "source": [
    "# We create the control and test group\n",
    "\n",
    "control = np.array(data['    Old machine'])\n",
    "treatment = np.array(data['New machine'])\n",
    "\n",
    "control, treatment"
   ]
  },
  {
   "cell_type": "code",
   "execution_count": 13,
   "id": "6b792f18",
   "metadata": {},
   "outputs": [
    {
     "name": "stdout",
     "output_type": "stream",
     "text": [
      "pvalue:  0.00161\n",
      "Since our hypothesis is one sided >> pvalue one sided 0.0008027856251936289\n",
      "Reject H0: mean sample of the old machine is larger than the mean sample of the new machine\n"
     ]
    }
   ],
   "source": [
    "# setting up the t test\n",
    "ttest, p_value = stats.ttest_ind(control, treatment, equal_var=True, alternative=\"greater\")\n",
    "print(\"pvalue: \", round(p_value, 5))\n",
    "\n",
    "print(\"Since our hypothesis is one sided >> pvalue one sided\", p_value/2)\n",
    "if p_value/2 < 0.05:\n",
    "    print(\"Reject H0: mean sample of the old machine is larger than the mean sample of the new machine\")\n",
    "else:\n",
    "    print(\"No evidence to reject the null hypothesis\")"
   ]
  },
  {
   "cell_type": "code",
   "execution_count": 12,
   "id": "38336332",
   "metadata": {},
   "outputs": [
    {
     "data": {
      "text/plain": [
       "(43.230000000000004, 42.14)"
      ]
     },
     "execution_count": 12,
     "metadata": {},
     "output_type": "execute_result"
    }
   ],
   "source": [
    "control.mean(), treatment.mean()"
   ]
  },
  {
   "cell_type": "markdown",
   "id": "2ce7f406",
   "metadata": {},
   "source": [
    "Conclusion\n",
    "* Pvalue < 0,05/2 --> We reject the null hypothesis and accept the Ha"
   ]
  },
  {
   "cell_type": "markdown",
   "id": "1072f185",
   "metadata": {},
   "source": [
    "# Exercise 2"
   ]
  },
  {
   "cell_type": "markdown",
   "id": "dde28d2b",
   "metadata": {},
   "source": [
    "An additional problem (not mandatory): In this case we can't assume that the population variances are equal. Hence in this case we cannot pool the variances. Independent random samples of 17 sophomores and 13 juniors attending a large university yield the following data on grade point averages. Data is provided in the file files_for_lab/student_gpa.txt. At the 5% significance level, do the data provide sufficient evidence to conclude that the mean GPAs of sophomores and juniors at the university differ?\n",
    "\n",
    "Test statistics can be calculated as: link to the image - Test statistics calculation for Unpooled Variance Case\n",
    "\n",
    "Degrees of freedom is (n1-1)+(n2-1)."
   ]
  },
  {
   "cell_type": "code",
   "execution_count": 16,
   "id": "3b71192f",
   "metadata": {},
   "outputs": [],
   "source": [
    "data2 = pd.read_csv(\"files_for_lab/student_gpa.txt\", sep='\\t')"
   ]
  },
  {
   "cell_type": "code",
   "execution_count": 18,
   "id": "3cebba32",
   "metadata": {},
   "outputs": [
    {
     "data": {
      "text/html": [
       "<div>\n",
       "<style scoped>\n",
       "    .dataframe tbody tr th:only-of-type {\n",
       "        vertical-align: middle;\n",
       "    }\n",
       "\n",
       "    .dataframe tbody tr th {\n",
       "        vertical-align: top;\n",
       "    }\n",
       "\n",
       "    .dataframe thead th {\n",
       "        text-align: right;\n",
       "    }\n",
       "</style>\n",
       "<table border=\"1\" class=\"dataframe\">\n",
       "  <thead>\n",
       "    <tr style=\"text-align: right;\">\n",
       "      <th></th>\n",
       "      <th>Sophomores</th>\n",
       "      <th>Juniors</th>\n",
       "    </tr>\n",
       "  </thead>\n",
       "  <tbody>\n",
       "    <tr>\n",
       "      <th>0</th>\n",
       "      <td>3.04</td>\n",
       "      <td>2.56</td>\n",
       "    </tr>\n",
       "    <tr>\n",
       "      <th>1</th>\n",
       "      <td>1.71</td>\n",
       "      <td>2.77</td>\n",
       "    </tr>\n",
       "    <tr>\n",
       "      <th>2</th>\n",
       "      <td>3.30</td>\n",
       "      <td>2.70</td>\n",
       "    </tr>\n",
       "    <tr>\n",
       "      <th>3</th>\n",
       "      <td>2.88</td>\n",
       "      <td>3.00</td>\n",
       "    </tr>\n",
       "    <tr>\n",
       "      <th>4</th>\n",
       "      <td>2.11</td>\n",
       "      <td>2.98</td>\n",
       "    </tr>\n",
       "    <tr>\n",
       "      <th>5</th>\n",
       "      <td>2.60</td>\n",
       "      <td>3.47</td>\n",
       "    </tr>\n",
       "    <tr>\n",
       "      <th>6</th>\n",
       "      <td>2.92</td>\n",
       "      <td>3.26</td>\n",
       "    </tr>\n",
       "    <tr>\n",
       "      <th>7</th>\n",
       "      <td>3.60</td>\n",
       "      <td>3.20</td>\n",
       "    </tr>\n",
       "    <tr>\n",
       "      <th>8</th>\n",
       "      <td>2.28</td>\n",
       "      <td>3.19</td>\n",
       "    </tr>\n",
       "    <tr>\n",
       "      <th>9</th>\n",
       "      <td>2.82</td>\n",
       "      <td>2.65</td>\n",
       "    </tr>\n",
       "    <tr>\n",
       "      <th>10</th>\n",
       "      <td>3.03</td>\n",
       "      <td>3.00</td>\n",
       "    </tr>\n",
       "    <tr>\n",
       "      <th>11</th>\n",
       "      <td>3.13</td>\n",
       "      <td>3.39</td>\n",
       "    </tr>\n",
       "    <tr>\n",
       "      <th>12</th>\n",
       "      <td>2.86</td>\n",
       "      <td>2.58</td>\n",
       "    </tr>\n",
       "    <tr>\n",
       "      <th>13</th>\n",
       "      <td>3.49</td>\n",
       "      <td>NaN</td>\n",
       "    </tr>\n",
       "    <tr>\n",
       "      <th>14</th>\n",
       "      <td>3.11</td>\n",
       "      <td>NaN</td>\n",
       "    </tr>\n",
       "    <tr>\n",
       "      <th>15</th>\n",
       "      <td>2.13</td>\n",
       "      <td>NaN</td>\n",
       "    </tr>\n",
       "    <tr>\n",
       "      <th>16</th>\n",
       "      <td>3.27</td>\n",
       "      <td>NaN</td>\n",
       "    </tr>\n",
       "  </tbody>\n",
       "</table>\n",
       "</div>"
      ],
      "text/plain": [
       "    Sophomores    Juniors\n",
       "0         3.04       2.56\n",
       "1         1.71       2.77\n",
       "2         3.30       2.70\n",
       "3         2.88       3.00\n",
       "4         2.11       2.98\n",
       "5         2.60       3.47\n",
       "6         2.92       3.26\n",
       "7         3.60       3.20\n",
       "8         2.28       3.19\n",
       "9         2.82       2.65\n",
       "10        3.03       3.00\n",
       "11        3.13       3.39\n",
       "12        2.86       2.58\n",
       "13        3.49        NaN\n",
       "14        3.11        NaN\n",
       "15        2.13        NaN\n",
       "16        3.27        NaN"
      ]
     },
     "execution_count": 18,
     "metadata": {},
     "output_type": "execute_result"
    }
   ],
   "source": [
    "data2"
   ]
  },
  {
   "cell_type": "markdown",
   "id": "f3c8d9b1",
   "metadata": {},
   "source": [
    "#### Define the hypothesis\n",
    "\n",
    "* H0: mean of Sophomores and Juniors is the same\n",
    "* Ha: mean is different"
   ]
  },
  {
   "cell_type": "markdown",
   "id": "ab8ec853",
   "metadata": {},
   "source": [
    "##### Assumptions\n",
    "\n",
    "* two samples are independent.\n",
    "* samples have different variance\n",
    "* assume data is normally distributed because they recomend ttest"
   ]
  },
  {
   "cell_type": "markdown",
   "id": "a5b44b22",
   "metadata": {},
   "source": [
    "##### Choosing the test\n",
    "\n",
    "* taking into account the assumptions we must go for a ttest\n",
    "* we choose equal_var = False --> because the variances are different"
   ]
  },
  {
   "cell_type": "code",
   "execution_count": 19,
   "id": "eeeed525",
   "metadata": {},
   "outputs": [
    {
     "data": {
      "text/plain": [
       "Index(['Sophomores', '  Juniors'], dtype='object')"
      ]
     },
     "execution_count": 19,
     "metadata": {},
     "output_type": "execute_result"
    }
   ],
   "source": [
    "data2.columns"
   ]
  },
  {
   "cell_type": "code",
   "execution_count": 20,
   "id": "21ce5c7f",
   "metadata": {
    "scrolled": true
   },
   "outputs": [
    {
     "data": {
      "text/plain": [
       "(array([3.04, 1.71, 3.3 , 2.88, 2.11, 2.6 , 2.92, 3.6 , 2.28, 2.82, 3.03,\n",
       "        3.13, 2.86, 3.49, 3.11, 2.13, 3.27]),\n",
       " array([2.56, 2.77, 2.7 , 3.  , 2.98, 3.47, 3.26, 3.2 , 3.19, 2.65, 3.  ,\n",
       "        3.39, 2.58]))"
      ]
     },
     "execution_count": 20,
     "metadata": {},
     "output_type": "execute_result"
    }
   ],
   "source": [
    "# creating control and treatment arrays for the t test\n",
    "S = np.array(data2['Sophomores'])\n",
    "J = np.array(data2['  Juniors'])\n",
    "\n",
    "S = S[~np.isnan(S)]\n",
    "J = J[~np.isnan(J)] #removing nans from array so the test can run\n",
    "\n",
    "S, J #sanity check"
   ]
  },
  {
   "cell_type": "code",
   "execution_count": 21,
   "id": "e4954bd5",
   "metadata": {},
   "outputs": [
    {
     "data": {
      "text/plain": [
       "(2.84, 2.980769230769231)"
      ]
     },
     "execution_count": 21,
     "metadata": {},
     "output_type": "execute_result"
    }
   ],
   "source": [
    "#PRECHECK\n",
    "S.mean(), J.mean()"
   ]
  },
  {
   "cell_type": "code",
   "execution_count": 22,
   "id": "0a05e3da",
   "metadata": {},
   "outputs": [
    {
     "name": "stdout",
     "output_type": "stream",
     "text": [
      "pvalue:  0.36422\n",
      "Since our hypothesis is two-sided, pvalue two-sided 0.3642180675348571\n",
      "No evidence to reject the null hypothesis\n"
     ]
    }
   ],
   "source": [
    "# setting up the t test\n",
    "ttest, p_value = stats.ttest_ind(S, J, equal_var=False, alternative=\"two-sided\")\n",
    "print(\"pvalue: \", round(p_value, 5))\n",
    "\n",
    "print(\"Since our hypothesis is two-sided, pvalue two-sided\", p_value)\n",
    "if p_value < 0.05:\n",
    "    print(\"Reject H0: mean sample of Somophores' GPA is different than the mean sample of Juniors' GPA\")\n",
    "else:\n",
    "    print(\"No evidence to reject the null hypothesis\")"
   ]
  },
  {
   "cell_type": "code",
   "execution_count": null,
   "id": "bcbdc1be",
   "metadata": {},
   "outputs": [],
   "source": []
  },
  {
   "cell_type": "code",
   "execution_count": null,
   "id": "976e3d1b",
   "metadata": {},
   "outputs": [],
   "source": []
  },
  {
   "cell_type": "code",
   "execution_count": null,
   "id": "ec8b2e3e",
   "metadata": {},
   "outputs": [],
   "source": []
  }
 ],
 "metadata": {
  "kernelspec": {
   "display_name": "Python 3 (ipykernel)",
   "language": "python",
   "name": "python3"
  },
  "language_info": {
   "codemirror_mode": {
    "name": "ipython",
    "version": 3
   },
   "file_extension": ".py",
   "mimetype": "text/x-python",
   "name": "python",
   "nbconvert_exporter": "python",
   "pygments_lexer": "ipython3",
   "version": "3.9.13"
  }
 },
 "nbformat": 4,
 "nbformat_minor": 5
}
